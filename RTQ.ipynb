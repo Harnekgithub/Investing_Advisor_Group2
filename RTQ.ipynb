{
 "cells": [
  {
   "cell_type": "code",
   "execution_count": 7,
   "metadata": {},
   "outputs": [],
   "source": [
    "from tkinter import *\n",
    "from tkinter import messagebox"
   ]
  },
  {
   "cell_type": "code",
   "execution_count": 8,
   "metadata": {},
   "outputs": [
    {
     "name": "stdout",
     "output_type": "stream",
     "text": [
      "What is the total amount of your current investable assets?\n"
     ]
    }
   ],
   "source": [
    "print(\"What is the total amount of your current investable assets?\")\n",
    "investable_assets = input()"
   ]
  },
  {
   "cell_type": "code",
   "execution_count": 9,
   "metadata": {},
   "outputs": [
    {
     "name": "stdout",
     "output_type": "stream",
     "text": [
      "200000\n"
     ]
    }
   ],
   "source": [
    "print(investable_assets)"
   ]
  },
  {
   "cell_type": "code",
   "execution_count": 10,
   "metadata": {},
   "outputs": [],
   "source": [
    "'''ws = Tk()\n",
    "ws.title(\"When is the earliest you would consider taking withdrawals from your Crypto portfolio?\")\n",
    "ws.geometry('400x200')\n",
    "\n",
    "def viewSelected():\n",
    "    choice  = var.get()\n",
    "    if choice == 1:\n",
    "       output = \"1a\"\n",
    "\n",
    "    elif choice == 2:\n",
    "       output =  \"2a\"\n",
    "    \n",
    "    elif choice == 3:\n",
    "       output =  \"3a\"\n",
    "\n",
    "    elif choice == 4:\n",
    "        output = \"4a\"\n",
    "\n",
    "    elif choice == 5:\n",
    "        output = \"5a\"\n",
    "        \n",
    "    else:\n",
    "        output = \"Invalid selection\"\n",
    "\n",
    "    return messagebox.showinfo('PythonGuides', f'You Selected {output}.')\n",
    "    \n",
    "var = IntVar()\n",
    "Radiobutton(ws, text=\"Less than one day\", variable=var, value=1, command=viewSelected).pack()\n",
    "Radiobutton(ws, text=\"Less than one week\", variable=var, value=2, command=viewSelected).pack()\n",
    "Radiobutton(ws, text=\"Less than one month\", variable=var, value=3, command=viewSelected).pack()\n",
    "Radiobutton(ws, text=\"Less than one quarter\", variable=var, value=4, command=viewSelected).pack()\n",
    "Radiobutton(ws, text=\"Greater than one quarter\", variable=var, value=5, command=viewSelected).pack()'''\n",
    "\n",
    "ws.mainloop()"
   ]
  },
  {
   "cell_type": "code",
   "execution_count": 11,
   "metadata": {},
   "outputs": [
    {
     "data": {
      "text/plain": [
       "<tkinter.IntVar at 0x1da4437d5c8>"
      ]
     },
     "execution_count": 11,
     "metadata": {},
     "output_type": "execute_result"
    }
   ],
   "source": [
    "var"
   ]
  },
  {
   "cell_type": "code",
   "execution_count": 14,
   "metadata": {},
   "outputs": [
    {
     "ename": "SyntaxError",
     "evalue": "invalid syntax (Temp/ipykernel_19720/1426400015.py, line 2)",
     "output_type": "error",
     "traceback": [
      "\u001b[1;36m  File \u001b[1;32m\"C:\\Users\\matth\\AppData\\Local\\Temp/ipykernel_19720/1426400015.py\"\u001b[1;36m, line \u001b[1;32m2\u001b[0m\n\u001b[1;33m    print(\"When is the earliest you would consider taking withdrawals from your Crypto portfolio?\"):\u001b[0m\n\u001b[1;37m                                                                                                    ^\u001b[0m\n\u001b[1;31mSyntaxError\u001b[0m\u001b[1;31m:\u001b[0m invalid syntax\n"
     ]
    }
   ],
   "source": [
    "a1 = 1.0\n",
    "print(\"When is the earliest you would consider taking withdrawals from your Crypto portfolio?\")\n",
    "q1 = input(\"Less than one day, Less than one week, Less than one month, More than one month\")\n",
    "if q1 = (\"Less than one day\"):\n",
    "    a1 = 1\n",
    "elif q1 = \"Less than one week\":\n",
    "    a1 = 2\n",
    "elif q1 = \"Less than one month\":\n",
    "    a1 = 3\n",
    "elif q1 = \"More than one month\":\n",
    "    a1 = 4"
   ]
  },
  {
   "cell_type": "code",
   "execution_count": null,
   "metadata": {},
   "outputs": [],
   "source": [
    "a2 = 1.0\n",
    "print(\"Would you consider your current and future income sources to be\"):\n",
    "q2 = input(\"Unstable\", \"Somewhat stable\", \"Stable\", \"Very stable\")\n",
    "#a2 needs to be 1 for Unstable, 2 for Somewhat stable, 3 for Stable, and 4 for Very Stable\n"
   ]
  },
  {
   "cell_type": "code",
   "execution_count": null,
   "metadata": {},
   "outputs": [],
   "source": [
    "a3 = 3.0\n",
    "print(\"When the market goes down, I tend to sell some of my riskier investments, and put money into safer investments\")\n",
    "q3 = input(\"Disagree\", \"Somewhat agree\", \"Agree\", \"Strongly agree\")\n",
    "#a3 needs to be 1 for Disagree, 2 for Somewhat agree, 3 for Agree, and 4 for Strongly agree"
   ]
  },
  {
   "cell_type": "code",
   "execution_count": null,
   "metadata": {},
   "outputs": [],
   "source": [
    "assets_invested = 1.0\n",
    "rtq_score = sum(q1, q2, q3)\n",
    "if rtq_score >= 10:\n",
    "    assets_invested = (investable_assets * 0.15)\n",
    "elif rtq_score >= 6 <10:\n",
    "    assets_invested = (investable_assets * 0.12)\n",
    "elif rtq_score >= 4 < 6:\n",
    "    assets_invested = (investable_assets * 0.08)\n",
    "elif rtq_score >= 2 < 4:\n",
    "    assets_invested = (investable_assets * 0.05)\n",
    "else:\n",
    "    assets_invested = (investable_assets * 0.02)"
   ]
  }
 ],
 "metadata": {
  "interpreter": {
   "hash": "c872188f4686747e789193ae94b0aef3e0c1fc4731ce781468a6112bff4b6f15"
  },
  "kernelspec": {
   "display_name": "Python 3.7.11 64-bit ('udemyenv': conda)",
   "language": "python",
   "name": "python3"
  },
  "language_info": {
   "codemirror_mode": {
    "name": "ipython",
    "version": 3
   },
   "file_extension": ".py",
   "mimetype": "text/x-python",
   "name": "python",
   "nbconvert_exporter": "python",
   "pygments_lexer": "ipython3",
   "version": "3.7.11"
  },
  "orig_nbformat": 4
 },
 "nbformat": 4,
 "nbformat_minor": 2
}
