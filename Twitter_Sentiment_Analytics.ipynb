{
 "cells": [
  {
   "cell_type": "code",
   "execution_count": 1,
   "id": "155658c5",
   "metadata": {},
   "outputs": [
    {
     "data": {
      "text/plain": [
       "True"
      ]
     },
     "execution_count": 1,
     "metadata": {},
     "output_type": "execute_result"
    }
   ],
   "source": [
    "import tweepy as tw\n",
    "from tweepy import *\n",
    "import requests\n",
    "import os\n",
    "import numpy as np\n",
    "import pandas as pd\n",
    "from azure.ai.textanalytics import TextAnalyticsClient\n",
    "from azure.core.credentials import AzureKeyCredential\n",
    "from azure.identity import DefaultAzureCredential\n",
    "\n",
    "\n",
    "from dotenv import load_dotenv\n",
    "load_dotenv()"
   ]
  },
  {
   "cell_type": "code",
   "execution_count": 2,
   "id": "79496b22",
   "metadata": {},
   "outputs": [],
   "source": [
    "# your Twitter API key and API secret & Microsoft Azure API Credentials\n",
    "my_api_key = os.getenv(\"twitter_api_key\")\n",
    "my_api_secret = os.getenv(\"twitter_secret_api_key\")\n",
    "language_api_key = os.getenv(\"azure_language\")\n",
    "endpoint = os.getenv(\"endpoint\")\n",
    "ta_credential = AzureKeyCredential(language_api_key)\n",
    "text_analytics_client = TextAnalyticsClient(\n",
    "            endpoint=endpoint, credential=ta_credential)\n",
    "\n",
    "\n",
    "# authenticate\n",
    "auth = tw.OAuthHandler(my_api_key, my_api_secret)\n",
    "api = tw.API(auth, wait_on_rate_limit=True)"
   ]
  },
  {
   "cell_type": "code",
   "execution_count": 3,
   "id": "b3595713",
   "metadata": {},
   "outputs": [],
   "source": [
    "search_query = \"#nasdaq-filter:retweets\""
   ]
  },
  {
   "cell_type": "code",
   "execution_count": 4,
   "id": "c6a87a3e",
   "metadata": {},
   "outputs": [
    {
     "name": "stderr",
     "output_type": "stream",
     "text": [
      "Unexpected parameter: since\n"
     ]
    },
    {
     "name": "stdout",
     "output_type": "stream",
     "text": [
      "Total Tweets fetched: 5\n"
     ]
    }
   ],
   "source": [
    "# get tweets from the API\n",
    "tweets = tw.Cursor(api.search_tweets,\n",
    "              q=search_query,\n",
    "              lang=\"en\",\n",
    "              since=\"2021-09-16\").items(5)\n",
    "\n",
    "# store the API responses in a list\n",
    "tweets_copy = []\n",
    "for tweet in tweets:\n",
    "    tweets_copy.append(tweet)\n",
    "    \n",
    "print(\"Total Tweets fetched:\", len(tweets_copy))"
   ]
  },
  {
   "cell_type": "code",
   "execution_count": 5,
   "id": "806a2eba",
   "metadata": {},
   "outputs": [
    {
     "data": {
      "text/html": [
       "<div>\n",
       "<style scoped>\n",
       "    .dataframe tbody tr th:only-of-type {\n",
       "        vertical-align: middle;\n",
       "    }\n",
       "\n",
       "    .dataframe tbody tr th {\n",
       "        vertical-align: top;\n",
       "    }\n",
       "\n",
       "    .dataframe thead th {\n",
       "        text-align: right;\n",
       "    }\n",
       "</style>\n",
       "<table border=\"1\" class=\"dataframe\">\n",
       "  <thead>\n",
       "    <tr style=\"text-align: right;\">\n",
       "      <th></th>\n",
       "      <th>user_name</th>\n",
       "      <th>user_location</th>\n",
       "      <th>user_description</th>\n",
       "      <th>user_verified</th>\n",
       "      <th>date</th>\n",
       "      <th>text</th>\n",
       "      <th>hashtags</th>\n",
       "      <th>source</th>\n",
       "    </tr>\n",
       "  </thead>\n",
       "  <tbody>\n",
       "    <tr>\n",
       "      <th>0</th>\n",
       "      <td>MR. CHEEMSINU</td>\n",
       "      <td>Cheemsville</td>\n",
       "      <td>We are not here to take part, we are here to t...</td>\n",
       "      <td>False</td>\n",
       "      <td>2021-12-06 04:10:10+00:00</td>\n",
       "      <td>hehehe #cheems #CheemsInu making it to the big...</td>\n",
       "      <td>[cheems, CheemsInu, shib, dogecoin, Nasdaq]</td>\n",
       "      <td>Twitter Web App</td>\n",
       "    </tr>\n",
       "    <tr>\n",
       "      <th>1</th>\n",
       "      <td>Crypto San@</td>\n",
       "      <td>Putrajaya</td>\n",
       "      <td></td>\n",
       "      <td>False</td>\n",
       "      <td>2021-12-06 03:57:22+00:00</td>\n",
       "      <td>#nasdaq has gave #CheemsInu a free promotion t...</td>\n",
       "      <td>[nasdaq, CheemsInu, doge, shiba, dogelon, Shir...</td>\n",
       "      <td>Twitter for iPhone</td>\n",
       "    </tr>\n",
       "    <tr>\n",
       "      <th>2</th>\n",
       "      <td>nomadhedge</td>\n",
       "      <td></td>\n",
       "      <td></td>\n",
       "      <td>False</td>\n",
       "      <td>2021-12-06 03:51:47+00:00</td>\n",
       "      <td>Nasdaq was the only major U.S. index, up 0.33%...</td>\n",
       "      <td>None</td>\n",
       "      <td>Twitter Web App</td>\n",
       "    </tr>\n",
       "    <tr>\n",
       "      <th>3</th>\n",
       "      <td>Crypto Alien 👽</td>\n",
       "      <td></td>\n",
       "      <td>Not financial advice. DYOR</td>\n",
       "      <td>False</td>\n",
       "      <td>2021-12-06 03:50:58+00:00</td>\n",
       "      <td>Watch out! If you make over a 100x you'll be p...</td>\n",
       "      <td>[Nasdaq, dogecoin, SHIB, cheems]</td>\n",
       "      <td>Twitter for Android</td>\n",
       "    </tr>\n",
       "    <tr>\n",
       "      <th>4</th>\n",
       "      <td>Shraddha Research</td>\n",
       "      <td></td>\n",
       "      <td>SEBi Registered Investment Adviser 💰 Social Me...</td>\n",
       "      <td>False</td>\n",
       "      <td>2021-12-06 03:47:46+00:00</td>\n",
       "      <td>#WORLDMARKET UPDATE: \\n\\n#NASDAQ-15,085.47 ,-2...</td>\n",
       "      <td>[WORLDMARKET, NASDAQ, DOWJONES, HANGSENG]</td>\n",
       "      <td>Twitter Web App</td>\n",
       "    </tr>\n",
       "  </tbody>\n",
       "</table>\n",
       "</div>"
      ],
      "text/plain": [
       "           user_name user_location  \\\n",
       "0      MR. CHEEMSINU   Cheemsville   \n",
       "1        Crypto San@     Putrajaya   \n",
       "2         nomadhedge                 \n",
       "3     Crypto Alien 👽                 \n",
       "4  Shraddha Research                 \n",
       "\n",
       "                                    user_description  user_verified  \\\n",
       "0  We are not here to take part, we are here to t...          False   \n",
       "1                                                             False   \n",
       "2                                                             False   \n",
       "3                         Not financial advice. DYOR          False   \n",
       "4  SEBi Registered Investment Adviser 💰 Social Me...          False   \n",
       "\n",
       "                       date  \\\n",
       "0 2021-12-06 04:10:10+00:00   \n",
       "1 2021-12-06 03:57:22+00:00   \n",
       "2 2021-12-06 03:51:47+00:00   \n",
       "3 2021-12-06 03:50:58+00:00   \n",
       "4 2021-12-06 03:47:46+00:00   \n",
       "\n",
       "                                                text  \\\n",
       "0  hehehe #cheems #CheemsInu making it to the big...   \n",
       "1  #nasdaq has gave #CheemsInu a free promotion t...   \n",
       "2  Nasdaq was the only major U.S. index, up 0.33%...   \n",
       "3  Watch out! If you make over a 100x you'll be p...   \n",
       "4  #WORLDMARKET UPDATE: \\n\\n#NASDAQ-15,085.47 ,-2...   \n",
       "\n",
       "                                            hashtags               source  \n",
       "0        [cheems, CheemsInu, shib, dogecoin, Nasdaq]      Twitter Web App  \n",
       "1  [nasdaq, CheemsInu, doge, shiba, dogelon, Shir...   Twitter for iPhone  \n",
       "2                                               None      Twitter Web App  \n",
       "3                   [Nasdaq, dogecoin, SHIB, cheems]  Twitter for Android  \n",
       "4          [WORLDMARKET, NASDAQ, DOWJONES, HANGSENG]      Twitter Web App  "
      ]
     },
     "execution_count": 5,
     "metadata": {},
     "output_type": "execute_result"
    }
   ],
   "source": [
    "# intialize the dataframe\n",
    "tweets_df = pd.DataFrame()\n",
    "\n",
    "# populate the dataframe\n",
    "for tweet in tweets_copy:\n",
    "    hashtags = []\n",
    "    try:\n",
    "        for hashtag in tweet.entities[\"hashtags\"]:\n",
    "            hashtags.append(hashtag[\"text\"])\n",
    "        text = api.get_status(id=tweet.id, tweet_mode='extended').full_text\n",
    "    except:\n",
    "        pass\n",
    "    tweets_df = tweets_df.append(pd.DataFrame({'user_name': tweet.user.name, \n",
    "                                               'user_location': tweet.user.location,\\\n",
    "                                               'user_description': tweet.user.description,\n",
    "                                               'user_verified': tweet.user.verified,\n",
    "                                               'date': tweet.created_at,\n",
    "                                               'text': text, \n",
    "                                               'hashtags': [hashtags if hashtags else None],\n",
    "                                               'source': tweet.source}))\n",
    "    tweets_df = tweets_df.reset_index(drop=True)\n",
    "\n",
    "# show the dataframe\n",
    "tweets_df.head(5)"
   ]
  },
  {
   "cell_type": "code",
   "execution_count": 6,
   "id": "0fa55202",
   "metadata": {},
   "outputs": [],
   "source": [
    "df=tweets_df[\"text\"]"
   ]
  },
  {
   "cell_type": "code",
   "execution_count": 7,
   "id": "251b1484",
   "metadata": {},
   "outputs": [
    {
     "data": {
      "text/plain": [
       "0    hehehe #cheems #CheemsInu making it to the big...\n",
       "1    #nasdaq has gave #CheemsInu a free promotion t...\n",
       "2    Nasdaq was the only major U.S. index, up 0.33%...\n",
       "3    Watch out! If you make over a 100x you'll be p...\n",
       "4    #WORLDMARKET UPDATE: \\n\\n#NASDAQ-15,085.47 ,-2...\n",
       "Name: text, dtype: object"
      ]
     },
     "execution_count": 7,
     "metadata": {},
     "output_type": "execute_result"
    }
   ],
   "source": [
    "df.head()"
   ]
  },
  {
   "cell_type": "code",
   "execution_count": 8,
   "id": "d13a40b2",
   "metadata": {},
   "outputs": [
    {
     "name": "stdout",
     "output_type": "stream",
     "text": [
      "Overall sentiment: mixed\n",
      "Scores: positive=0.49; neutral=0.01; negative=0.5 \n",
      "\n",
      "Overall sentiment: positive\n",
      "Scores: positive=0.66; neutral=0.33; negative=0.01 \n",
      "\n",
      "Overall sentiment: negative\n",
      "Scores: positive=0.0; neutral=0.46; negative=0.54 \n",
      "\n",
      "Overall sentiment: negative\n",
      "Scores: positive=0.0; neutral=0.0; negative=1.0 \n",
      "\n",
      "Overall sentiment: neutral\n",
      "Scores: positive=0.0; neutral=1.0; negative=0.0 \n",
      "\n"
     ]
    }
   ],
   "source": [
    "#Microsoft Azure Cognitive Text Analytics \n",
    "\n",
    "documents = [df[0],df[1],df[2],df[3],df[4]]\n",
    "\n",
    "response = text_analytics_client.analyze_sentiment(documents, language=\"en\")\n",
    "result = [doc for doc in response if not doc.is_error]\n",
    "\n",
    "for doc in result:\n",
    "    print(\"Overall sentiment: {}\".format(doc.sentiment))\n",
    "    print(\"Scores: positive={}; neutral={}; negative={} \\n\".format(\n",
    "        doc.confidence_scores.positive,\n",
    "        doc.confidence_scores.neutral,\n",
    "        doc.confidence_scores.negative,\n",
    "    ))"
   ]
  }
 ],
 "metadata": {
  "kernelspec": {
   "display_name": "Python 3",
   "language": "python",
   "name": "python3"
  },
  "language_info": {
   "codemirror_mode": {
    "name": "ipython",
    "version": 3
   },
   "file_extension": ".py",
   "mimetype": "text/x-python",
   "name": "python",
   "nbconvert_exporter": "python",
   "pygments_lexer": "ipython3",
   "version": "3.8.8"
  }
 },
 "nbformat": 4,
 "nbformat_minor": 5
}
