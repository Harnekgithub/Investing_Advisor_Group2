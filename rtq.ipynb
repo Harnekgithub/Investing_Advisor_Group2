{
 "cells": [
  {
   "cell_type": "code",
   "execution_count": 1,
   "metadata": {},
   "outputs": [
    {
     "name": "stdout",
     "output_type": "stream",
     "text": [
      "What is the total amount of your current investable assets?\n"
     ]
    },
    {
     "name": "stdin",
     "output_type": "stream",
     "text": [
      " 100000\n"
     ]
    }
   ],
   "source": [
    "print(\"What is the total amount of your current investable assets?\")\n",
    "investable_assets = input() "
   ]
  },
  {
   "cell_type": "code",
   "execution_count": 2,
   "metadata": {},
   "outputs": [],
   "source": [
    "investable_assets = int(investable_assets)"
   ]
  },
  {
   "cell_type": "code",
   "execution_count": 3,
   "metadata": {},
   "outputs": [],
   "source": [
    "class Question:\n",
    "    def __init__(self, prompt, answer):\n",
    "        self.prompt = prompt\n",
    "        self.answer = answer"
   ]
  },
  {
   "cell_type": "code",
   "execution_count": 4,
   "metadata": {},
   "outputs": [],
   "source": [
    "question_prompts = [\n",
    "    \"When is the earliest you would consider selling your stock position?\\n(a) Less than one day \\n(b) Less than one week \\n(c) Less than one month \\n(d) More than one month\",\n",
    "    \"Would you consider your current and future income sources to be: \\n(a) Unstable \\n(b) Somewhat Stable \\n (c) Stable \\n (d) Very Stable\",\n",
    "    \"When the market goes down, I tend to sell some of my riskier investments, and put money into safer investments \\n (a) Disagree \\n (b) Somewhat agree \\n (c) Agree \\n (d) Strongly Agree\"\n",
    "]"
   ]
  },
  {
   "cell_type": "code",
   "execution_count": 5,
   "metadata": {},
   "outputs": [],
   "source": [
    "questions = [\n",
    "    Question(question_prompts[0], \"\"),\n",
    "    Question(question_prompts[1], \"\"),\n",
    "    Question(question_prompts[2], \"\")\n",
    "]"
   ]
  },
  {
   "cell_type": "code",
   "execution_count": 6,
   "metadata": {},
   "outputs": [],
   "source": [
    "rtq_score = []"
   ]
  },
  {
   "cell_type": "code",
   "execution_count": 7,
   "metadata": {},
   "outputs": [],
   "source": [
    "def run_test(questions):\n",
    "    score = 0\n",
    "    for question in questions:\n",
    "        answer = input(question.prompt)\n",
    "        if answer == \"a\": \n",
    "            score += 1\n",
    "        elif answer == \"b\":\n",
    "            score += 2\n",
    "        elif answer == \"c\":\n",
    "            score += 3\n",
    "        elif answer == \"d\":\n",
    "            score += 4\n",
    "    rtq_score.append(score)"
   ]
  },
  {
   "cell_type": "code",
   "execution_count": 8,
   "metadata": {},
   "outputs": [
    {
     "name": "stdin",
     "output_type": "stream",
     "text": [
      "When is the earliest you would consider selling your stock position?\n",
      "(a) Less than one day \n",
      "(b) Less than one week \n",
      "(c) Less than one month \n",
      "(d) More than one month b\n",
      "Would you consider your current and future income sources to be: \n",
      "(a) Unstable \n",
      "(b) Somewhat Stable \n",
      " (c) Stable \n",
      " (d) Very Stable b\n",
      "When the market goes down, I tend to sell some of my riskier investments, and put money into safer investments \n",
      " (a) Disagree \n",
      " (b) Somewhat agree \n",
      " (c) Agree \n",
      " (d) Strongly Agree c\n"
     ]
    }
   ],
   "source": [
    "run_test(questions)"
   ]
  },
  {
   "cell_type": "code",
   "execution_count": 12,
   "metadata": {},
   "outputs": [
    {
     "ename": "TypeError",
     "evalue": "'int' object is not subscriptable",
     "output_type": "error",
     "traceback": [
      "\u001b[1;31m---------------------------------------------------------------------------\u001b[0m",
      "\u001b[1;31mTypeError\u001b[0m                                 Traceback (most recent call last)",
      "\u001b[1;32m~\\AppData\\Local\\Temp/ipykernel_3824/4011862358.py\u001b[0m in \u001b[0;36m<module>\u001b[1;34m\u001b[0m\n\u001b[1;32m----> 1\u001b[1;33m \u001b[0mrtq_score\u001b[0m \u001b[1;33m=\u001b[0m \u001b[0mint\u001b[0m\u001b[1;33m(\u001b[0m\u001b[0mrtq_score\u001b[0m\u001b[1;33m[\u001b[0m\u001b[1;36m0\u001b[0m\u001b[1;33m]\u001b[0m\u001b[1;33m)\u001b[0m\u001b[1;33m\u001b[0m\u001b[1;33m\u001b[0m\u001b[0m\n\u001b[0m\u001b[0;32m      2\u001b[0m \u001b[0mrtq_score\u001b[0m\u001b[1;33m\u001b[0m\u001b[1;33m\u001b[0m\u001b[0m\n",
      "\u001b[1;31mTypeError\u001b[0m: 'int' object is not subscriptable"
     ]
    }
   ],
   "source": [
    "rtq_score = int(rtq_score[0])\n",
    "rtq_score"
   ]
  },
  {
   "cell_type": "code",
   "execution_count": 13,
   "metadata": {},
   "outputs": [],
   "source": [
    "assets_invested = 1.0\n",
    "if rtq_score >= 10:\n",
    "    assets_invested = (investable_assets * 0.15)\n",
    "elif rtq_score >= 6 <10:\n",
    "    assets_invested = (investable_assets * 0.12)\n",
    "elif rtq_score >= 4 < 6:\n",
    "    assets_invested = (investable_assets * 0.08)\n",
    "elif rtq_score >= 2 < 4:\n",
    "    assets_invested = (investable_assets * 0.05)\n",
    "else:\n",
    "    assets_invested = (investable_assets * 0.02)"
   ]
  },
  {
   "cell_type": "code",
   "execution_count": 14,
   "metadata": {},
   "outputs": [
    {
     "name": "stdout",
     "output_type": "stream",
     "text": [
      "We recommend that you invest no more than $12000.0 into the assets suggested in your custom analysis\n"
     ]
    }
   ],
   "source": [
    "print (f\"We recommend that you invest no more than ${assets_invested} into the assets suggested in your custom analysis\")"
   ]
  },
  {
   "cell_type": "code",
   "execution_count": null,
   "metadata": {},
   "outputs": [],
   "source": []
  }
 ],
 "metadata": {
  "interpreter": {
   "hash": "c872188f4686747e789193ae94b0aef3e0c1fc4731ce781468a6112bff4b6f15"
  },
  "kernelspec": {
   "display_name": "Python 3 (ipykernel)",
   "language": "python",
   "name": "python3"
  },
  "language_info": {
   "codemirror_mode": {
    "name": "ipython",
    "version": 3
   },
   "file_extension": ".py",
   "mimetype": "text/x-python",
   "name": "python",
   "nbconvert_exporter": "python",
   "pygments_lexer": "ipython3",
   "version": "3.9.7"
  }
 },
 "nbformat": 4,
 "nbformat_minor": 4
}
